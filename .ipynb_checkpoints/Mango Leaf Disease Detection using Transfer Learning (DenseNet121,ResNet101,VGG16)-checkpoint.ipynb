{
 "cells": [
  {
   "cell_type": "code",
   "execution_count": 131,
   "id": "2a33924a-5507-4345-8a77-2f258c707427",
   "metadata": {},
   "outputs": [],
   "source": [
    "import os\n",
    "import json\n",
    "import numpy as np\n",
    "import pandas as pd\n",
    "import seaborn as sns\n",
    "from tensorflow import keras\n",
    "import tensorflow as tf\n",
    "import matplotlib.pyplot as plt\n",
    "from tensorflow.keras.callbacks import ModelCheckpoint, CSVLogger\n",
    "from sklearn.metrics import confusion_matrix, classification_report\n",
    "from tensorflow.keras.models import load_model\n",
    "from tensorflow.keras.preprocessing.image import ImageDataGenerator, load_img, img_to_array\n",
    "from tensorflow.keras.applications.densenet import DenseNet121, preprocess_input\n",
    "from tensorflow.keras.applications.vgg16 import VGG16, preprocess_input\n",
    "from tensorflow.keras.applications.resnet_v2 import ResNet101V2, preprocess_input\n",
    "from keras.layers import GlobalAveragePooling2D, Dropout, Dense\n",
    "from sklearn.preprocessing import LabelEncoder\n",
    "from PIL import Image\n",
    "from tensorflow.keras.applications import DenseNet121\n",
    "from tensorflow.keras import layers, models\n",
    "from keras.models import Model\n",
    "import tensorflow as tf"
   ]
  },
  {
   "cell_type": "markdown",
   "id": "6dcdf793-5ddb-4b0d-bf60-318d7e582804",
   "metadata": {},
   "source": [
    "Train / Test / Validation Paths"
   ]
  },
  {
   "cell_type": "code",
   "execution_count": 116,
   "id": "b550850a-e4e2-4718-bcd3-693058282764",
   "metadata": {},
   "outputs": [],
   "source": [
    "train_dataset_path = \"E:/Farhan/DataSet/Train\"\n",
    "test_dataset_path = \"E:/Farhan/DataSet/Test\"\n",
    "validation_dataset_path = \"E:/Farhan/DataSet/Validation\""
   ]
  },
  {
   "cell_type": "code",
   "execution_count": 117,
   "id": "b0130c64-3016-418d-9981-7152ed6717d4",
   "metadata": {},
   "outputs": [],
   "source": [
    "# Set the parameters for training\n",
    "image_size = (224, 224)\n",
    "batch_size = 16\n",
    "num_epochs = 5"
   ]
  },
  {
   "cell_type": "markdown",
   "id": "1f8a33c3-7d31-4ea6-af01-593e6a4ade9f",
   "metadata": {},
   "source": [
    "List of classes "
   ]
  },
  {
   "cell_type": "code",
   "execution_count": 118,
   "id": "8b0be44a-eb9d-4d1c-8294-6cfe73a83259",
   "metadata": {},
   "outputs": [],
   "source": [
    "# Get the list of class names from the training dataset\n",
    "disease_categories = sorted(os.listdir(train_dataset_path))\n",
    "\n",
    "# Initialize the label encoder\n",
    "label_encoder = LabelEncoder()\n",
    "\n",
    "# Create an image data generator\n",
    "data_generator = ImageDataGenerator(preprocessing_function=preprocess_input)"
   ]
  },
  {
   "cell_type": "markdown",
   "id": "4e9f5390-ea78-4dd7-9f55-eec2b91cc4cf",
   "metadata": {},
   "source": [
    "Generators for loading images"
   ]
  },
  {
   "cell_type": "code",
   "execution_count": 119,
   "id": "4588a6a7-e9cf-4aa6-aa15-da624bd3327d",
   "metadata": {},
   "outputs": [
    {
     "name": "stdout",
     "output_type": "stream",
     "text": [
      "Found 3200 images belonging to 8 classes.\n"
     ]
    }
   ],
   "source": [
    "# Create a generator for loading the training data\n",
    "train_generator = data_generator.flow_from_directory(\n",
    "    train_dataset_path,  # Path to the training dataset\n",
    "    target_size = image_size,\n",
    "    batch_size = batch_size,\n",
    "    class_mode='categorical',\n",
    "    shuffle=True\n",
    ")"
   ]
  },
  {
   "cell_type": "code",
   "execution_count": 120,
   "id": "5c431413-f5d1-48fd-9e54-873055f7ec08",
   "metadata": {},
   "outputs": [
    {
     "name": "stdout",
     "output_type": "stream",
     "text": [
      "Found 400 images belonging to 8 classes.\n"
     ]
    }
   ],
   "source": [
    "# Create a generator for loading the testing data\n",
    "test_generator = data_generator.flow_from_directory(\n",
    "    test_dataset_path,  # Path to the testing dataset\n",
    "    target_size=image_size,\n",
    "    batch_size=batch_size,\n",
    "    class_mode='categorical',\n",
    "    shuffle=False  # No need to shuffle the testing data\n",
    ")\n"
   ]
  },
  {
   "cell_type": "code",
   "execution_count": 121,
   "id": "3fc1f567-3717-40b1-8e4a-003900060cc8",
   "metadata": {},
   "outputs": [
    {
     "name": "stdout",
     "output_type": "stream",
     "text": [
      "Found 400 images belonging to 8 classes.\n"
     ]
    }
   ],
   "source": [
    "# Create a generator for loading the validation data\n",
    "validation_generator = data_generator.flow_from_directory(\n",
    "    validation_dataset_path,  # Path to the validation dataset folder\n",
    "    target_size=image_size,\n",
    "    batch_size=batch_size,\n",
    "    class_mode='categorical',\n",
    "    shuffle=False  # No need to shuffle the validation data\n",
    ")"
   ]
  },
  {
   "cell_type": "code",
   "execution_count": 122,
   "id": "0c0848f4-ed47-48fc-9236-a462af8fecd6",
   "metadata": {},
   "outputs": [],
   "source": [
    "# Get the label mappings from the generator\n",
    "label_mappings = train_generator.class_indices\n",
    "\n",
    "# Convert the label mappings to integer labels\n",
    "integer_labels = label_encoder.fit_transform(list(label_mappings.keys()))"
   ]
  },
  {
   "cell_type": "markdown",
   "id": "193b2a47-bc57-4350-83dd-c9b9f0a04a01",
   "metadata": {},
   "source": [
    "DenseNet"
   ]
  },
  {
   "cell_type": "code",
   "execution_count": 111,
   "id": "a133f510-c0a5-4101-aa09-3434192de600",
   "metadata": {},
   "outputs": [],
   "source": [
    "# Load the DenseNet121 pre-trained model without the top layer\n",
    "base_model = DenseNet121(include_top=False, weights=\"imagenet\", input_shape=(224, 224, 3))\n",
    "\n",
    "# Freeze the pre-trained layers\n",
    "for layer in base_model.layers:\n",
    "    layer.trainable = False\n",
    "\n",
    "# Build the model architecture\n",
    "x = base_model.output\n",
    "x = layers.GlobalAveragePooling2D()(x)  # Use the output of the last convolutional layer\n",
    "x = layers.Dropout(0.5)(x)  # Adding a dropout layer\n",
    "x = layers.Dense(len(disease_categories), activation=\"softmax\")(x)\n",
    "\n",
    "model = models.Model(inputs=base_model.input, outputs=x)\n",
    "\n",
    "# Compile the model\n",
    "model.compile(optimizer=\"adam\", loss=\"categorical_crossentropy\", metrics=[\"accuracy\"])"
   ]
  },
  {
   "cell_type": "code",
   "execution_count": 112,
   "id": "bc5f067d-81b6-4ebc-90d7-1edfd6d4db3c",
   "metadata": {},
   "outputs": [
    {
     "name": "stdout",
     "output_type": "stream",
     "text": [
      "Epoch 1/25\n",
      "\u001b[1m100/100\u001b[0m \u001b[32m━━━━━━━━━━━━━━━━━━━━\u001b[0m\u001b[37m\u001b[0m \u001b[1m93s\u001b[0m 847ms/step - accuracy: 0.3898 - loss: 1.9445 - val_accuracy: 0.9844 - val_loss: 0.3417\n",
      "Epoch 2/25\n",
      "\u001b[1m100/100\u001b[0m \u001b[32m━━━━━━━━━━━━━━━━━━━━\u001b[0m\u001b[37m\u001b[0m \u001b[1m81s\u001b[0m 815ms/step - accuracy: 0.7927 - loss: 0.5914 - val_accuracy: 0.9167 - val_loss: 0.4137\n",
      "Epoch 3/25\n"
     ]
    },
    {
     "name": "stderr",
     "output_type": "stream",
     "text": [
      "c:\\users\\smart lab\\appdata\\local\\programs\\python\\python39\\lib\\contextlib.py:135: UserWarning: Your input ran out of data; interrupting training. Make sure that your dataset or generator can generate at least `steps_per_epoch * epochs` batches. You may need to use the `.repeat()` function when building your dataset.\n",
      "  self.gen.throw(type, value, traceback)\n"
     ]
    },
    {
     "name": "stdout",
     "output_type": "stream",
     "text": [
      "\u001b[1m100/100\u001b[0m \u001b[32m━━━━━━━━━━━━━━━━━━━━\u001b[0m\u001b[37m\u001b[0m \u001b[1m1s\u001b[0m 11ms/step - accuracy: 0.0000e+00 - loss: 0.0000e+00 - val_accuracy: 0.7500 - val_loss: 0.9305\n",
      "Epoch 4/25\n",
      "\u001b[1m100/100\u001b[0m \u001b[32m━━━━━━━━━━━━━━━━━━━━\u001b[0m\u001b[37m\u001b[0m \u001b[1m82s\u001b[0m 820ms/step - accuracy: 0.9027 - loss: 0.3562 - val_accuracy: 1.0000 - val_loss: 0.1135\n",
      "Epoch 5/25\n",
      "\u001b[1m100/100\u001b[0m \u001b[32m━━━━━━━━━━━━━━━━━━━━\u001b[0m\u001b[37m\u001b[0m \u001b[1m82s\u001b[0m 821ms/step - accuracy: 0.9268 - loss: 0.2551 - val_accuracy: 0.9115 - val_loss: 0.3132\n",
      "Epoch 6/25\n",
      "\u001b[1m100/100\u001b[0m \u001b[32m━━━━━━━━━━━━━━━━━━━━\u001b[0m\u001b[37m\u001b[0m \u001b[1m1s\u001b[0m 8ms/step - accuracy: 0.0000e+00 - loss: 0.0000e+00 - val_accuracy: 0.6250 - val_loss: 0.9983\n",
      "Epoch 7/25\n",
      "\u001b[1m100/100\u001b[0m \u001b[32m━━━━━━━━━━━━━━━━━━━━\u001b[0m\u001b[37m\u001b[0m \u001b[1m82s\u001b[0m 818ms/step - accuracy: 0.9449 - loss: 0.1932 - val_accuracy: 1.0000 - val_loss: 0.0601\n",
      "Epoch 8/25\n",
      "\u001b[1m100/100\u001b[0m \u001b[32m━━━━━━━━━━━━━━━━━━━━\u001b[0m\u001b[37m\u001b[0m \u001b[1m82s\u001b[0m 818ms/step - accuracy: 0.9700 - loss: 0.1379 - val_accuracy: 0.9740 - val_loss: 0.1558\n",
      "Epoch 9/25\n",
      "\u001b[1m100/100\u001b[0m \u001b[32m━━━━━━━━━━━━━━━━━━━━\u001b[0m\u001b[37m\u001b[0m \u001b[1m1s\u001b[0m 8ms/step - accuracy: 0.0000e+00 - loss: 0.0000e+00 - val_accuracy: 0.9375 - val_loss: 0.3101\n",
      "Epoch 10/25\n",
      "\u001b[1m100/100\u001b[0m \u001b[32m━━━━━━━━━━━━━━━━━━━━\u001b[0m\u001b[37m\u001b[0m \u001b[1m82s\u001b[0m 817ms/step - accuracy: 0.9631 - loss: 0.1536 - val_accuracy: 1.0000 - val_loss: 0.0550\n",
      "Epoch 11/25\n",
      "\u001b[1m100/100\u001b[0m \u001b[32m━━━━━━━━━━━━━━━━━━━━\u001b[0m\u001b[37m\u001b[0m \u001b[1m82s\u001b[0m 819ms/step - accuracy: 0.9671 - loss: 0.1233 - val_accuracy: 0.9792 - val_loss: 0.1348\n",
      "Epoch 12/25\n",
      "\u001b[1m100/100\u001b[0m \u001b[32m━━━━━━━━━━━━━━━━━━━━\u001b[0m\u001b[37m\u001b[0m \u001b[1m1s\u001b[0m 8ms/step - accuracy: 0.0000e+00 - loss: 0.0000e+00 - val_accuracy: 0.9375 - val_loss: 0.3048\n",
      "Epoch 13/25\n",
      "\u001b[1m100/100\u001b[0m \u001b[32m━━━━━━━━━━━━━━━━━━━━\u001b[0m\u001b[37m\u001b[0m \u001b[1m82s\u001b[0m 818ms/step - accuracy: 0.9623 - loss: 0.1247 - val_accuracy: 1.0000 - val_loss: 0.0374\n",
      "Epoch 14/25\n",
      "\u001b[1m100/100\u001b[0m \u001b[32m━━━━━━━━━━━━━━━━━━━━\u001b[0m\u001b[37m\u001b[0m \u001b[1m82s\u001b[0m 820ms/step - accuracy: 0.9656 - loss: 0.1129 - val_accuracy: 0.9792 - val_loss: 0.1125\n",
      "Epoch 15/25\n",
      "\u001b[1m100/100\u001b[0m \u001b[32m━━━━━━━━━━━━━━━━━━━━\u001b[0m\u001b[37m\u001b[0m \u001b[1m1s\u001b[0m 8ms/step - accuracy: 0.0000e+00 - loss: 0.0000e+00 - val_accuracy: 0.9375 - val_loss: 0.2876\n",
      "Epoch 16/25\n",
      "\u001b[1m100/100\u001b[0m \u001b[32m━━━━━━━━━━━━━━━━━━━━\u001b[0m\u001b[37m\u001b[0m \u001b[1m82s\u001b[0m 819ms/step - accuracy: 0.9677 - loss: 0.1105 - val_accuracy: 1.0000 - val_loss: 0.0257\n",
      "Epoch 17/25\n",
      "\u001b[1m100/100\u001b[0m \u001b[32m━━━━━━━━━━━━━━━━━━━━\u001b[0m\u001b[37m\u001b[0m \u001b[1m82s\u001b[0m 823ms/step - accuracy: 0.9646 - loss: 0.0981 - val_accuracy: 0.9948 - val_loss: 0.1172\n",
      "Epoch 18/25\n",
      "\u001b[1m100/100\u001b[0m \u001b[32m━━━━━━━━━━━━━━━━━━━━\u001b[0m\u001b[37m\u001b[0m \u001b[1m1s\u001b[0m 8ms/step - accuracy: 0.0000e+00 - loss: 0.0000e+00 - val_accuracy: 0.9375 - val_loss: 0.2424\n",
      "Epoch 19/25\n",
      "\u001b[1m100/100\u001b[0m \u001b[32m━━━━━━━━━━━━━━━━━━━━\u001b[0m\u001b[37m\u001b[0m \u001b[1m84s\u001b[0m 837ms/step - accuracy: 0.9841 - loss: 0.0763 - val_accuracy: 1.0000 - val_loss: 0.0214\n",
      "Epoch 20/25\n",
      "\u001b[1m100/100\u001b[0m \u001b[32m━━━━━━━━━━━━━━━━━━━━\u001b[0m\u001b[37m\u001b[0m \u001b[1m83s\u001b[0m 832ms/step - accuracy: 0.9836 - loss: 0.0800 - val_accuracy: 0.9792 - val_loss: 0.1047\n",
      "Epoch 21/25\n",
      "\u001b[1m100/100\u001b[0m \u001b[32m━━━━━━━━━━━━━━━━━━━━\u001b[0m\u001b[37m\u001b[0m \u001b[1m1s\u001b[0m 8ms/step - accuracy: 0.0000e+00 - loss: 0.0000e+00 - val_accuracy: 0.9375 - val_loss: 0.1827\n",
      "Epoch 22/25\n",
      "\u001b[1m100/100\u001b[0m \u001b[32m━━━━━━━━━━━━━━━━━━━━\u001b[0m\u001b[37m\u001b[0m \u001b[1m84s\u001b[0m 836ms/step - accuracy: 0.9764 - loss: 0.0917 - val_accuracy: 1.0000 - val_loss: 0.0167\n",
      "Epoch 23/25\n",
      "\u001b[1m100/100\u001b[0m \u001b[32m━━━━━━━━━━━━━━━━━━━━\u001b[0m\u001b[37m\u001b[0m \u001b[1m83s\u001b[0m 825ms/step - accuracy: 0.9809 - loss: 0.0778 - val_accuracy: 0.9896 - val_loss: 0.0947\n",
      "Epoch 24/25\n",
      "\u001b[1m100/100\u001b[0m \u001b[32m━━━━━━━━━━━━━━━━━━━━\u001b[0m\u001b[37m\u001b[0m \u001b[1m1s\u001b[0m 8ms/step - accuracy: 0.0000e+00 - loss: 0.0000e+00 - val_accuracy: 0.9375 - val_loss: 0.2649\n",
      "Epoch 25/25\n",
      "\u001b[1m100/100\u001b[0m \u001b[32m━━━━━━━━━━━━━━━━━━━━\u001b[0m\u001b[37m\u001b[0m \u001b[1m82s\u001b[0m 822ms/step - accuracy: 0.9669 - loss: 0.0974 - val_accuracy: 1.0000 - val_loss: 0.0177\n"
     ]
    }
   ],
   "source": [
    "# Fit the model\n",
    "history = model.fit(\n",
    "    train_generator,\n",
    "    steps_per_epoch=train_generator.samples // 32,\n",
    "    epochs=25,\n",
    "    validation_data=validation_generator,\n",
    "    validation_steps=validation_generator.samples // 32\n",
    ")"
   ]
  },
  {
   "cell_type": "code",
   "execution_count": 113,
   "id": "4afc8906-a64a-488b-b194-a37ab0a9f4d2",
   "metadata": {},
   "outputs": [
    {
     "name": "stdout",
     "output_type": "stream",
     "text": [
      "history saved successfully!\n"
     ]
    }
   ],
   "source": [
    "history_dict = history.history\n",
    "with open('DenseNet_history.json', 'w') as f:\n",
    "    json.dump(history_dict, f)\n",
    "print('history saved successfully!')"
   ]
  },
  {
   "cell_type": "code",
   "execution_count": 114,
   "id": "8a788043-e123-4030-bb05-d2c8665b8b01",
   "metadata": {},
   "outputs": [
    {
     "name": "stderr",
     "output_type": "stream",
     "text": [
      "WARNING:absl:You are saving your model as an HDF5 file via `model.save()` or `keras.saving.save_model(model)`. This file format is considered legacy. We recommend using instead the native Keras format, e.g. `model.save('my_model.keras')` or `keras.saving.save_model(model, 'my_model.keras')`. \n"
     ]
    },
    {
     "name": "stdout",
     "output_type": "stream",
     "text": [
      "Model saved successfully!\n"
     ]
    }
   ],
   "source": [
    "# Save the trained model\n",
    "model.save('densenet121_model.h5')\n",
    "print(\"Model saved successfully!\")"
   ]
  },
  {
   "cell_type": "code",
   "execution_count": 115,
   "id": "4a5f3da9-7a4e-4c47-843c-821ddb29ac58",
   "metadata": {},
   "outputs": [],
   "source": [
    "# from tensorflow.keras.models import load_model\n",
    "# # Load the trained model\n",
    "# loaded_model = load_model('densenet121_model.h5')\n",
    "# print(\"Model loaded successfully!\")"
   ]
  },
  {
   "cell_type": "markdown",
   "id": "375c6287-a6aa-4709-8bae-df81b27d71c5",
   "metadata": {},
   "source": [
    "ResNet101"
   ]
  },
  {
   "cell_type": "code",
   "execution_count": 103,
   "id": "b2fb86b8-0d00-4e29-9311-264ccad8628c",
   "metadata": {},
   "outputs": [
    {
     "name": "stdout",
     "output_type": "stream",
     "text": [
      "Downloading data from https://storage.googleapis.com/tensorflow/keras-applications/resnet/resnet101v2_weights_tf_dim_ordering_tf_kernels_notop.h5\n",
      "\u001b[1m171317808/171317808\u001b[0m \u001b[32m━━━━━━━━━━━━━━━━━━━━\u001b[0m\u001b[37m\u001b[0m \u001b[1m1444s\u001b[0m 8us/step\n"
     ]
    }
   ],
   "source": [
    "# Load the ResNet121 pre-trained model without the top layer\n",
    "base_model = ResNet101V2(include_top=False, weights=\"imagenet\", input_shape=(224, 224, 3))\n",
    "\n",
    "# Freeze the pre-trained layers\n",
    "for layer in base_model.layers:\n",
    "    layer.trainable = False\n",
    "\n",
    "# Build the model architecture\n",
    "x = base_model.output\n",
    "x = layers.GlobalAveragePooling2D()(x)  # Use the output of the last convolutional layer\n",
    "x = layers.Dropout(0.5)(x)  # Adding a dropout layer\n",
    "x = layers.Dense(len(disease_categories), activation=\"softmax\")(x)\n",
    "\n",
    "model = models.Model(inputs=base_model.input, outputs=x)\n",
    "\n",
    "# Compile the model\n",
    "model.compile(optimizer=\"adam\", loss=\"categorical_crossentropy\", metrics=[\"accuracy\"])"
   ]
  },
  {
   "cell_type": "code",
   "execution_count": 106,
   "id": "e09b2381-37a9-4ca8-9865-af8d9977377f",
   "metadata": {},
   "outputs": [
    {
     "name": "stdout",
     "output_type": "stream",
     "text": [
      "Epoch 1/25\n"
     ]
    },
    {
     "name": "stderr",
     "output_type": "stream",
     "text": [
      "c:\\users\\smart lab\\appdata\\local\\programs\\python\\python39\\lib\\site-packages\\keras\\src\\trainers\\data_adapters\\py_dataset_adapter.py:121: UserWarning: Your `PyDataset` class should call `super().__init__(**kwargs)` in its constructor. `**kwargs` can include `workers`, `use_multiprocessing`, `max_queue_size`. Do not pass these arguments to `fit()`, as they will be ignored.\n",
      "  self._warn_if_super_not_called()\n"
     ]
    },
    {
     "name": "stdout",
     "output_type": "stream",
     "text": [
      "\u001b[1m100/100\u001b[0m \u001b[32m━━━━━━━━━━━━━━━━━━━━\u001b[0m\u001b[37m\u001b[0m \u001b[1m124s\u001b[0m 1s/step - accuracy: 0.4980 - loss: 1.6638 - val_accuracy: 0.9010 - val_loss: 0.2890\n",
      "Epoch 2/25\n",
      "\u001b[1m100/100\u001b[0m \u001b[32m━━━━━━━━━━━━━━━━━━━━\u001b[0m\u001b[37m\u001b[0m \u001b[1m114s\u001b[0m 1s/step - accuracy: 0.9045 - loss: 0.2998 - val_accuracy: 0.8698 - val_loss: 0.3014\n",
      "Epoch 3/25\n"
     ]
    },
    {
     "name": "stderr",
     "output_type": "stream",
     "text": [
      "c:\\users\\smart lab\\appdata\\local\\programs\\python\\python39\\lib\\contextlib.py:135: UserWarning: Your input ran out of data; interrupting training. Make sure that your dataset or generator can generate at least `steps_per_epoch * epochs` batches. You may need to use the `.repeat()` function when building your dataset.\n",
      "  self.gen.throw(type, value, traceback)\n"
     ]
    },
    {
     "name": "stdout",
     "output_type": "stream",
     "text": [
      "\u001b[1m100/100\u001b[0m \u001b[32m━━━━━━━━━━━━━━━━━━━━\u001b[0m\u001b[37m\u001b[0m \u001b[1m1s\u001b[0m 13ms/step - accuracy: 0.0000e+00 - loss: 0.0000e+00 - val_accuracy: 0.5000 - val_loss: 0.8794\n",
      "Epoch 4/25\n",
      "\u001b[1m100/100\u001b[0m \u001b[32m━━━━━━━━━━━━━━━━━━━━\u001b[0m\u001b[37m\u001b[0m \u001b[1m115s\u001b[0m 1s/step - accuracy: 0.9419 - loss: 0.1754 - val_accuracy: 0.9740 - val_loss: 0.1039\n",
      "Epoch 5/25\n",
      "\u001b[1m100/100\u001b[0m \u001b[32m━━━━━━━━━━━━━━━━━━━━\u001b[0m\u001b[37m\u001b[0m \u001b[1m112s\u001b[0m 1s/step - accuracy: 0.9538 - loss: 0.1353 - val_accuracy: 0.9531 - val_loss: 0.1696\n",
      "Epoch 6/25\n",
      "\u001b[1m100/100\u001b[0m \u001b[32m━━━━━━━━━━━━━━━━━━━━\u001b[0m\u001b[37m\u001b[0m \u001b[1m1s\u001b[0m 10ms/step - accuracy: 0.0000e+00 - loss: 0.0000e+00 - val_accuracy: 0.9375 - val_loss: 0.2731\n",
      "Epoch 7/25\n",
      "\u001b[1m100/100\u001b[0m \u001b[32m━━━━━━━━━━━━━━━━━━━━\u001b[0m\u001b[37m\u001b[0m \u001b[1m112s\u001b[0m 1s/step - accuracy: 0.9744 - loss: 0.0857 - val_accuracy: 0.9740 - val_loss: 0.0889\n",
      "Epoch 8/25\n",
      "\u001b[1m100/100\u001b[0m \u001b[32m━━━━━━━━━━━━━━━━━━━━\u001b[0m\u001b[37m\u001b[0m \u001b[1m115s\u001b[0m 1s/step - accuracy: 0.9673 - loss: 0.0917 - val_accuracy: 0.9688 - val_loss: 0.1116\n",
      "Epoch 9/25\n",
      "\u001b[1m100/100\u001b[0m \u001b[32m━━━━━━━━━━━━━━━━━━━━\u001b[0m\u001b[37m\u001b[0m \u001b[1m1s\u001b[0m 10ms/step - accuracy: 0.0000e+00 - loss: 0.0000e+00 - val_accuracy: 1.0000 - val_loss: 0.1620\n",
      "Epoch 10/25\n",
      "\u001b[1m100/100\u001b[0m \u001b[32m━━━━━━━━━━━━━━━━━━━━\u001b[0m\u001b[37m\u001b[0m \u001b[1m112s\u001b[0m 1s/step - accuracy: 0.9662 - loss: 0.0869 - val_accuracy: 0.9948 - val_loss: 0.0591\n",
      "Epoch 11/25\n",
      "\u001b[1m100/100\u001b[0m \u001b[32m━━━━━━━━━━━━━━━━━━━━\u001b[0m\u001b[37m\u001b[0m \u001b[1m115s\u001b[0m 1s/step - accuracy: 0.9806 - loss: 0.0625 - val_accuracy: 0.9635 - val_loss: 0.1236\n",
      "Epoch 12/25\n",
      "\u001b[1m100/100\u001b[0m \u001b[32m━━━━━━━━━━━━━━━━━━━━\u001b[0m\u001b[37m\u001b[0m \u001b[1m1s\u001b[0m 12ms/step - accuracy: 0.0000e+00 - loss: 0.0000e+00 - val_accuracy: 0.9375 - val_loss: 0.2651\n",
      "Epoch 13/25\n",
      "\u001b[1m100/100\u001b[0m \u001b[32m━━━━━━━━━━━━━━━━━━━━\u001b[0m\u001b[37m\u001b[0m \u001b[1m113s\u001b[0m 1s/step - accuracy: 0.9818 - loss: 0.0662 - val_accuracy: 0.9948 - val_loss: 0.0537\n",
      "Epoch 14/25\n",
      "\u001b[1m100/100\u001b[0m \u001b[32m━━━━━━━━━━━━━━━━━━━━\u001b[0m\u001b[37m\u001b[0m \u001b[1m111s\u001b[0m 1s/step - accuracy: 0.9854 - loss: 0.0549 - val_accuracy: 0.9635 - val_loss: 0.1019\n",
      "Epoch 15/25\n",
      "\u001b[1m100/100\u001b[0m \u001b[32m━━━━━━━━━━━━━━━━━━━━\u001b[0m\u001b[37m\u001b[0m \u001b[1m1s\u001b[0m 10ms/step - accuracy: 0.0000e+00 - loss: 0.0000e+00 - val_accuracy: 0.9375 - val_loss: 0.2510\n",
      "Epoch 16/25\n",
      "\u001b[1m100/100\u001b[0m \u001b[32m━━━━━━━━━━━━━━━━━━━━\u001b[0m\u001b[37m\u001b[0m \u001b[1m110s\u001b[0m 1s/step - accuracy: 0.9877 - loss: 0.0456 - val_accuracy: 0.9948 - val_loss: 0.0414\n",
      "Epoch 17/25\n",
      "\u001b[1m100/100\u001b[0m \u001b[32m━━━━━━━━━━━━━━━━━━━━\u001b[0m\u001b[37m\u001b[0m \u001b[1m111s\u001b[0m 1s/step - accuracy: 0.9825 - loss: 0.0461 - val_accuracy: 0.9844 - val_loss: 0.0979\n",
      "Epoch 18/25\n",
      "\u001b[1m100/100\u001b[0m \u001b[32m━━━━━━━━━━━━━━━━━━━━\u001b[0m\u001b[37m\u001b[0m \u001b[1m1s\u001b[0m 10ms/step - accuracy: 0.0000e+00 - loss: 0.0000e+00 - val_accuracy: 0.8750 - val_loss: 0.3000\n",
      "Epoch 19/25\n",
      "\u001b[1m100/100\u001b[0m \u001b[32m━━━━━━━━━━━━━━━━━━━━\u001b[0m\u001b[37m\u001b[0m \u001b[1m112s\u001b[0m 1s/step - accuracy: 0.9888 - loss: 0.0390 - val_accuracy: 0.9948 - val_loss: 0.0356\n",
      "Epoch 20/25\n",
      "\u001b[1m100/100\u001b[0m \u001b[32m━━━━━━━━━━━━━━━━━━━━\u001b[0m\u001b[37m\u001b[0m \u001b[1m112s\u001b[0m 1s/step - accuracy: 0.9852 - loss: 0.0390 - val_accuracy: 0.9844 - val_loss: 0.0941\n",
      "Epoch 21/25\n",
      "\u001b[1m100/100\u001b[0m \u001b[32m━━━━━━━━━━━━━━━━━━━━\u001b[0m\u001b[37m\u001b[0m \u001b[1m1s\u001b[0m 10ms/step - accuracy: 0.0000e+00 - loss: 0.0000e+00 - val_accuracy: 0.9375 - val_loss: 0.2279\n",
      "Epoch 22/25\n",
      "\u001b[1m100/100\u001b[0m \u001b[32m━━━━━━━━━━━━━━━━━━━━\u001b[0m\u001b[37m\u001b[0m \u001b[1m110s\u001b[0m 1s/step - accuracy: 0.9901 - loss: 0.0358 - val_accuracy: 0.9740 - val_loss: 0.0755\n",
      "Epoch 23/25\n",
      "\u001b[1m100/100\u001b[0m \u001b[32m━━━━━━━━━━━━━━━━━━━━\u001b[0m\u001b[37m\u001b[0m \u001b[1m110s\u001b[0m 1s/step - accuracy: 0.9867 - loss: 0.0420 - val_accuracy: 0.9844 - val_loss: 0.0724\n",
      "Epoch 24/25\n",
      "\u001b[1m100/100\u001b[0m \u001b[32m━━━━━━━━━━━━━━━━━━━━\u001b[0m\u001b[37m\u001b[0m \u001b[1m1s\u001b[0m 10ms/step - accuracy: 0.0000e+00 - loss: 0.0000e+00 - val_accuracy: 1.0000 - val_loss: 0.0538\n",
      "Epoch 25/25\n",
      "\u001b[1m100/100\u001b[0m \u001b[32m━━━━━━━━━━━━━━━━━━━━\u001b[0m\u001b[37m\u001b[0m \u001b[1m111s\u001b[0m 1s/step - accuracy: 0.9923 - loss: 0.0260 - val_accuracy: 0.9948 - val_loss: 0.0497\n"
     ]
    }
   ],
   "source": [
    "# Fit the model\n",
    "history = model.fit(\n",
    "    train_generator,\n",
    "    steps_per_epoch=train_generator.samples // 32,\n",
    "    epochs=25,\n",
    "    validation_data=validation_generator,\n",
    "    validation_steps=validation_generator.samples // 32\n",
    ")"
   ]
  },
  {
   "cell_type": "code",
   "execution_count": 107,
   "id": "26f098fc-96f1-49a8-b869-aa85b3777a32",
   "metadata": {},
   "outputs": [
    {
     "name": "stdout",
     "output_type": "stream",
     "text": [
      "history saved successfully!\n"
     ]
    }
   ],
   "source": [
    "history_dict = history.history\n",
    "with open('restNet_history.json', 'w') as f:\n",
    "    json.dump(history_dict, f)\n",
    "print('history saved successfully!')"
   ]
  },
  {
   "cell_type": "code",
   "execution_count": 108,
   "id": "a6a76203-15a5-457c-a42d-5cb096cafa82",
   "metadata": {},
   "outputs": [
    {
     "name": "stderr",
     "output_type": "stream",
     "text": [
      "WARNING:absl:You are saving your model as an HDF5 file via `model.save()` or `keras.saving.save_model(model)`. This file format is considered legacy. We recommend using instead the native Keras format, e.g. `model.save('my_model.keras')` or `keras.saving.save_model(model, 'my_model.keras')`. \n"
     ]
    },
    {
     "name": "stdout",
     "output_type": "stream",
     "text": [
      "Model saved successfully!\n"
     ]
    }
   ],
   "source": [
    "# Save the trained model\n",
    "model.save('resNet_model.h5')\n",
    "\n",
    "print(\"Model saved successfully!\")"
   ]
  },
  {
   "cell_type": "markdown",
   "id": "fff206d0-62ea-4e38-8811-7a907560bc97",
   "metadata": {},
   "source": [
    "VGG16"
   ]
  },
  {
   "cell_type": "code",
   "execution_count": 132,
   "id": "c52acc3e-1cab-40c1-ac19-73162869b799",
   "metadata": {},
   "outputs": [],
   "source": [
    "#Load the VGG16 pre-trained model without the top layer\n",
    "base_model = VGG16(include_top=False, weights=\"imagenet\", input_shape=(224, 224, 3))\n",
    "\n",
    "# Freeze the pre-trained layers\n",
    "for layer in base_model.layers:\n",
    "    layer.trainable = False\n",
    "\n",
    "# Build the model architecture\n",
    "x = base_model.output\n",
    "x = GlobalAveragePooling2D()(x)  # Use the output of the last convolutional layer\n",
    "x = Dropout(0.5)(x)  # Adding a dropout layer\n",
    "x = Dense(len(disease_categories), activation=\"softmax\")(x)\n",
    "\n",
    "model = Model(inputs=base_model.input, outputs=x)\n",
    "\n",
    "# Compile the model\n",
    "model.compile(optimizer=\"adam\", loss=\"categorical_crossentropy\", metrics=[\"accuracy\"])"
   ]
  },
  {
   "cell_type": "code",
   "execution_count": 133,
   "id": "d7f8dccc-48d6-4524-a6cb-dc7c57256ef7",
   "metadata": {},
   "outputs": [
    {
     "name": "stdout",
     "output_type": "stream",
     "text": [
      "Epoch 1/25\n"
     ]
    },
    {
     "name": "stderr",
     "output_type": "stream",
     "text": [
      "c:\\users\\smart lab\\appdata\\local\\programs\\python\\python39\\lib\\site-packages\\keras\\src\\trainers\\data_adapters\\py_dataset_adapter.py:121: UserWarning: Your `PyDataset` class should call `super().__init__(**kwargs)` in its constructor. `**kwargs` can include `workers`, `use_multiprocessing`, `max_queue_size`. Do not pass these arguments to `fit()`, as they will be ignored.\n",
      "  self._warn_if_super_not_called()\n"
     ]
    },
    {
     "name": "stdout",
     "output_type": "stream",
     "text": [
      "\u001b[1m100/100\u001b[0m \u001b[32m━━━━━━━━━━━━━━━━━━━━\u001b[0m\u001b[37m\u001b[0m \u001b[1m114s\u001b[0m 1s/step - accuracy: 0.1645 - loss: 2.1880 - val_accuracy: 0.5833 - val_loss: 1.6734\n",
      "Epoch 2/25\n",
      "\u001b[1m100/100\u001b[0m \u001b[32m━━━━━━━━━━━━━━━━━━━━\u001b[0m\u001b[37m\u001b[0m \u001b[1m115s\u001b[0m 1s/step - accuracy: 0.4657 - loss: 1.6473 - val_accuracy: 0.7292 - val_loss: 1.4344\n",
      "Epoch 3/25\n"
     ]
    },
    {
     "name": "stderr",
     "output_type": "stream",
     "text": [
      "c:\\users\\smart lab\\appdata\\local\\programs\\python\\python39\\lib\\contextlib.py:135: UserWarning: Your input ran out of data; interrupting training. Make sure that your dataset or generator can generate at least `steps_per_epoch * epochs` batches. You may need to use the `.repeat()` function when building your dataset.\n",
      "  self.gen.throw(type, value, traceback)\n"
     ]
    },
    {
     "name": "stdout",
     "output_type": "stream",
     "text": [
      "\u001b[1m100/100\u001b[0m \u001b[32m━━━━━━━━━━━━━━━━━━━━\u001b[0m\u001b[37m\u001b[0m \u001b[1m1s\u001b[0m 11ms/step - accuracy: 0.0000e+00 - loss: 0.0000e+00 - val_accuracy: 0.0625 - val_loss: 1.9090\n",
      "Epoch 4/25\n",
      "\u001b[1m100/100\u001b[0m \u001b[32m━━━━━━━━━━━━━━━━━━━━\u001b[0m\u001b[37m\u001b[0m \u001b[1m115s\u001b[0m 1s/step - accuracy: 0.6616 - loss: 1.3219 - val_accuracy: 0.8646 - val_loss: 1.1574\n",
      "Epoch 5/25\n",
      "\u001b[1m100/100\u001b[0m \u001b[32m━━━━━━━━━━━━━━━━━━━━\u001b[0m\u001b[37m\u001b[0m \u001b[1m116s\u001b[0m 1s/step - accuracy: 0.7494 - loss: 1.1318 - val_accuracy: 0.7969 - val_loss: 1.1001\n",
      "Epoch 6/25\n",
      "\u001b[1m100/100\u001b[0m \u001b[32m━━━━━━━━━━━━━━━━━━━━\u001b[0m\u001b[37m\u001b[0m \u001b[1m1s\u001b[0m 10ms/step - accuracy: 0.0000e+00 - loss: 0.0000e+00 - val_accuracy: 0.0000e+00 - val_loss: 1.9458\n",
      "Epoch 7/25\n",
      "\u001b[1m100/100\u001b[0m \u001b[32m━━━━━━━━━━━━━━━━━━━━\u001b[0m\u001b[37m\u001b[0m \u001b[1m115s\u001b[0m 1s/step - accuracy: 0.7989 - loss: 0.9947 - val_accuracy: 0.9479 - val_loss: 0.8719\n",
      "Epoch 8/25\n",
      "\u001b[1m100/100\u001b[0m \u001b[32m━━━━━━━━━━━━━━━━━━━━\u001b[0m\u001b[37m\u001b[0m \u001b[1m115s\u001b[0m 1s/step - accuracy: 0.7959 - loss: 0.8940 - val_accuracy: 0.8177 - val_loss: 0.9127\n",
      "Epoch 9/25\n",
      "\u001b[1m100/100\u001b[0m \u001b[32m━━━━━━━━━━━━━━━━━━━━\u001b[0m\u001b[37m\u001b[0m \u001b[1m1s\u001b[0m 10ms/step - accuracy: 0.0000e+00 - loss: 0.0000e+00 - val_accuracy: 0.0000e+00 - val_loss: 1.8193\n",
      "Epoch 10/25\n",
      "\u001b[1m100/100\u001b[0m \u001b[32m━━━━━━━━━━━━━━━━━━━━\u001b[0m\u001b[37m\u001b[0m \u001b[1m119s\u001b[0m 1s/step - accuracy: 0.8404 - loss: 0.8094 - val_accuracy: 0.9219 - val_loss: 0.7734\n",
      "Epoch 11/25\n",
      "\u001b[1m100/100\u001b[0m \u001b[32m━━━━━━━━━━━━━━━━━━━━\u001b[0m\u001b[37m\u001b[0m \u001b[1m115s\u001b[0m 1s/step - accuracy: 0.8541 - loss: 0.7429 - val_accuracy: 0.8125 - val_loss: 0.8165\n",
      "Epoch 12/25\n",
      "\u001b[1m100/100\u001b[0m \u001b[32m━━━━━━━━━━━━━━━━━━━━\u001b[0m\u001b[37m\u001b[0m \u001b[1m1s\u001b[0m 11ms/step - accuracy: 0.0000e+00 - loss: 0.0000e+00 - val_accuracy: 0.0625 - val_loss: 1.6716\n",
      "Epoch 13/25\n",
      "\u001b[1m100/100\u001b[0m \u001b[32m━━━━━━━━━━━━━━━━━━━━\u001b[0m\u001b[37m\u001b[0m \u001b[1m115s\u001b[0m 1s/step - accuracy: 0.8659 - loss: 0.6857 - val_accuracy: 0.9688 - val_loss: 0.5776\n",
      "Epoch 14/25\n",
      "\u001b[1m100/100\u001b[0m \u001b[32m━━━━━━━━━━━━━━━━━━━━\u001b[0m\u001b[37m\u001b[0m \u001b[1m115s\u001b[0m 1s/step - accuracy: 0.8857 - loss: 0.6143 - val_accuracy: 0.8854 - val_loss: 0.7023\n",
      "Epoch 15/25\n",
      "\u001b[1m100/100\u001b[0m \u001b[32m━━━━━━━━━━━━━━━━━━━━\u001b[0m\u001b[37m\u001b[0m \u001b[1m1s\u001b[0m 10ms/step - accuracy: 0.0000e+00 - loss: 0.0000e+00 - val_accuracy: 0.3125 - val_loss: 1.5246\n",
      "Epoch 16/25\n",
      "\u001b[1m100/100\u001b[0m \u001b[32m━━━━━━━━━━━━━━━━━━━━\u001b[0m\u001b[37m\u001b[0m \u001b[1m115s\u001b[0m 1s/step - accuracy: 0.8895 - loss: 0.5908 - val_accuracy: 0.9792 - val_loss: 0.5237\n",
      "Epoch 17/25\n",
      "\u001b[1m100/100\u001b[0m \u001b[32m━━━━━━━━━━━━━━━━━━━━\u001b[0m\u001b[37m\u001b[0m \u001b[1m115s\u001b[0m 1s/step - accuracy: 0.8840 - loss: 0.5724 - val_accuracy: 0.8802 - val_loss: 0.6244\n",
      "Epoch 18/25\n",
      "\u001b[1m100/100\u001b[0m \u001b[32m━━━━━━━━━━━━━━━━━━━━\u001b[0m\u001b[37m\u001b[0m \u001b[1m1s\u001b[0m 10ms/step - accuracy: 0.0000e+00 - loss: 0.0000e+00 - val_accuracy: 0.3125 - val_loss: 1.6216\n",
      "Epoch 19/25\n",
      "\u001b[1m100/100\u001b[0m \u001b[32m━━━━━━━━━━━━━━━━━━━━\u001b[0m\u001b[37m\u001b[0m \u001b[1m115s\u001b[0m 1s/step - accuracy: 0.8665 - loss: 0.5495 - val_accuracy: 0.9688 - val_loss: 0.4852\n",
      "Epoch 20/25\n",
      "\u001b[1m100/100\u001b[0m \u001b[32m━━━━━━━━━━━━━━━━━━━━\u001b[0m\u001b[37m\u001b[0m \u001b[1m117s\u001b[0m 1s/step - accuracy: 0.9123 - loss: 0.5113 - val_accuracy: 0.8698 - val_loss: 0.5672\n",
      "Epoch 21/25\n",
      "\u001b[1m100/100\u001b[0m \u001b[32m━━━━━━━━━━━━━━━━━━━━\u001b[0m\u001b[37m\u001b[0m \u001b[1m1s\u001b[0m 10ms/step - accuracy: 0.0000e+00 - loss: 0.0000e+00 - val_accuracy: 0.3125 - val_loss: 1.5597\n",
      "Epoch 22/25\n",
      "\u001b[1m100/100\u001b[0m \u001b[32m━━━━━━━━━━━━━━━━━━━━\u001b[0m\u001b[37m\u001b[0m \u001b[1m115s\u001b[0m 1s/step - accuracy: 0.8871 - loss: 0.5010 - val_accuracy: 0.9740 - val_loss: 0.4236\n",
      "Epoch 23/25\n",
      "\u001b[1m100/100\u001b[0m \u001b[32m━━━━━━━━━━━━━━━━━━━━\u001b[0m\u001b[37m\u001b[0m \u001b[1m117s\u001b[0m 1s/step - accuracy: 0.8901 - loss: 0.5083 - val_accuracy: 0.8854 - val_loss: 0.5475\n",
      "Epoch 24/25\n",
      "\u001b[1m100/100\u001b[0m \u001b[32m━━━━━━━━━━━━━━━━━━━━\u001b[0m\u001b[37m\u001b[0m \u001b[1m1s\u001b[0m 11ms/step - accuracy: 0.0000e+00 - loss: 0.0000e+00 - val_accuracy: 0.3125 - val_loss: 1.4666\n",
      "Epoch 25/25\n",
      "\u001b[1m100/100\u001b[0m \u001b[32m━━━━━━━━━━━━━━━━━━━━\u001b[0m\u001b[37m\u001b[0m \u001b[1m116s\u001b[0m 1s/step - accuracy: 0.9021 - loss: 0.4459 - val_accuracy: 0.9948 - val_loss: 0.3397\n"
     ]
    }
   ],
   "source": [
    "# Fit the model\n",
    "history = model.fit(\n",
    "    train_generator,\n",
    "    steps_per_epoch=train_generator.samples // 32,\n",
    "    epochs=25,\n",
    "    validation_data=validation_generator,\n",
    "    validation_steps=validation_generator.samples // 32\n",
    ")"
   ]
  },
  {
   "cell_type": "code",
   "execution_count": 134,
   "id": "4e01c11e-4238-4848-bbdb-39cd9ad64476",
   "metadata": {},
   "outputs": [
    {
     "name": "stdout",
     "output_type": "stream",
     "text": [
      "history saved successfully!\n"
     ]
    }
   ],
   "source": [
    "history_dict = history.history\n",
    "with open('VGG16_history.json', 'w') as f:\n",
    "    json.dump(history_dict, f)\n",
    "print('history saved successfully!')"
   ]
  },
  {
   "cell_type": "code",
   "execution_count": 135,
   "id": "db5c69ae-abc1-413a-887a-85ffc0a7b421",
   "metadata": {},
   "outputs": [
    {
     "name": "stderr",
     "output_type": "stream",
     "text": [
      "WARNING:absl:You are saving your model as an HDF5 file via `model.save()` or `keras.saving.save_model(model)`. This file format is considered legacy. We recommend using instead the native Keras format, e.g. `model.save('my_model.keras')` or `keras.saving.save_model(model, 'my_model.keras')`. \n"
     ]
    },
    {
     "name": "stdout",
     "output_type": "stream",
     "text": [
      "Model saved successfully!\n"
     ]
    }
   ],
   "source": [
    "# Save the trained model\n",
    "model.save('VGG16_model.h5')\n",
    "\n",
    "print(\"Model saved successfully!\")"
   ]
  },
  {
   "cell_type": "code",
   "execution_count": 136,
   "id": "b9554670-c16f-423e-912a-0173ab18f305",
   "metadata": {},
   "outputs": [
    {
     "name": "stdout",
     "output_type": "stream",
     "text": [
      "\u001b[1m25/25\u001b[0m \u001b[32m━━━━━━━━━━━━━━━━━━━━\u001b[0m\u001b[37m\u001b[0m \u001b[1m26s\u001b[0m 1s/step - accuracy: 0.7953 - loss: 0.5592\n",
      "Test Accuracy: 80.00%\n",
      "Test Loss: 0.5607\n",
      "\u001b[1m25/25\u001b[0m \u001b[32m━━━━━━━━━━━━━━━━━━━━\u001b[0m\u001b[37m\u001b[0m \u001b[1m26s\u001b[0m 1s/step\n"
     ]
    }
   ],
   "source": [
    "# Evaluate the model on the test set\n",
    "test_loss, test_accuracy = model.evaluate(test_generator)\n",
    "\n",
    "print(f\"Test Accuracy: {test_accuracy * 100:.2f}%\")\n",
    "print(f\"Test Loss: {test_loss:.4f}\")\n",
    "\n",
    "# Make predictions on the test set\n",
    "predictions = model.predict(test_generator)\n",
    "predicted_classes = tf.argmax(predictions, axis=1)\n",
    "\n",
    "# Get the true labels\n",
    "true_classes = test_generator.classes"
   ]
  },
  {
   "cell_type": "code",
   "execution_count": 137,
   "id": "240e47af-5321-4169-8d9f-f5d559c2e83c",
   "metadata": {},
   "outputs": [
    {
     "name": "stdout",
     "output_type": "stream",
     "text": [
      "                  precision    recall  f1-score   support\n",
      "\n",
      "     Anthracnose       0.71      0.54      0.61        50\n",
      "Bacterial Canker       1.00      1.00      1.00        50\n",
      "  Cutting Weevil       1.00      1.00      1.00        50\n",
      "        Die Back       0.83      0.88      0.85        50\n",
      "      Gall Midge       0.82      0.84      0.83        50\n",
      "         Healthy       0.56      1.00      0.72        50\n",
      "  Powdery Mildew       0.84      0.94      0.89        50\n",
      "     Sooty Mould       0.77      0.20      0.32        50\n",
      "\n",
      "        accuracy                           0.80       400\n",
      "       macro avg       0.82      0.80      0.78       400\n",
      "    weighted avg       0.82      0.80      0.78       400\n",
      "\n"
     ]
    },
    {
     "data": {
      "image/png": "[encoded data removed]",
      "text/plain": [
       "<Figure size 1000x800 with 2 Axes>"
      ]
     },
     "metadata": {},
     "output_type": "display_data"
    }
   ],
   "source": [
    "\n",
    "# Classification report\n",
    "from sklearn.metrics import classification_report\n",
    "\n",
    "report = classification_report(true_classes, predicted_classes, target_names=test_generator.class_indices.keys())\n",
    "print(report)\n",
    "\n",
    "# Confusion matrix\n",
    "from sklearn.metrics import confusion_matrix\n",
    "import seaborn as sns\n",
    "import matplotlib.pyplot as plt\n",
    "\n",
    "conf_matrix = confusion_matrix(true_classes, predicted_classes)\n",
    "plt.figure(figsize=(10, 8))\n",
    "sns.heatmap(conf_matrix, annot=True, fmt='d', cmap='Blues', xticklabels=test_generator.class_indices.keys(), yticklabels=test_generator.class_indices.keys())\n",
    "plt.xlabel('Predicted Label')\n",
    "plt.ylabel('True Label')\n",
    "plt.title('Confusion Matrix')\n",
    "plt.show()\n"
   ]
  },
  {
   "cell_type": "code",
   "execution_count": null,
   "id": "effe20de-143e-4236-8dee-e8c8e2001463",
   "metadata": {},
   "outputs": [],
   "source": []
  }
 ],
 "metadata": {
  "kernelspec": {
   "display_name": "Python 3 (ipykernel)",
   "language": "python",
   "name": "python3"
  },
  "language_info": {
   "codemirror_mode": {
    "name": "ipython",
    "version": 3
   },
   "file_extension": ".py",
   "mimetype": "text/x-python",
   "name": "python",
   "nbconvert_exporter": "python",
   "pygments_lexer": "ipython3",
   "version": "3.9.4"
  }
 },
 "nbformat": 4,
 "nbformat_minor": 5
}
